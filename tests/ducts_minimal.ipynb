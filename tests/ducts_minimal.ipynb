{
 "metadata": {
  "name": "duct_minimal"
 },
 "nbformat": 3,
 "nbformat_minor": 0,
 "worksheets": [
  {
   "cells": [
    {
     "cell_type": "code",
     "collapsed": false,
     "input": "import matplotlib.pyplot as plt\nimport matplotlib.cm as cm\nfrom mpl_toolkits.mplot3d import Axes3D\nimport numpy as np\nfrom numpy import pi\nimport vtk\nfrom vtk.util.colors import peacock, tomato\n",
     "language": "python",
     "metadata": {},
     "outputs": [],
     "prompt_number": 4
    },
    {
     "cell_type": "code",
     "collapsed": false,
     "input": "#functions for creating vtk representation\n\ndef radToGrad(angle):\n    return angle*180/pi\n            \ndef createSourceFromPoint(node):\n    if node.parent is None:\n        px = node.x\n        py = node.y\n        pz = node.z-node.length\n    else:\n        px = node.parent.x\n        py = node.parent.y\n        pz = node.parent.z\n    source = vtk.vtkLineSource()\n    source.SetPoint1(px,py,pz)\n    source.SetPoint2(node.x, node.y, node.z)\n    tube=vtk.vtkTubeFilter()\n    tube.SetRadius(2*node.model.length_ratio**node.level)\n    tube.SetNumberOfSides(100)\n    tube.CappingOn()\n    tube.SetInputConnection(source.GetOutputPort())\n    return tube\n\ndef createActorFromPoint(node, color):\n    source = createSourceFromPoint(node)\n    mapper = vtk.vtkPolyDataMapper()\n    mapper.SetInputConnection(source.GetOutputPort())\n    actor = vtk.vtkActor()\n    actor.SetMapper(mapper)\n    actor.GetProperty().SetColor(color[0], color[1], color[2])\n    return actor\n\ndef isCutting(node, z):\n    if node.parent is None:\n        px = node.x\n        py = node.y\n        pz = node.z-node.length\n    else:\n        px = node.parent.x\n        py = node.parent.y\n        pz = node.parent.z\n    minz = min(pz, node.z)\n    maxz = max(pz, node.z)\n    return minz < z < maxz;\n\ndef createCutFromPoint(node, color, plane):\n    #z=plane.GetOrigin()[2]\n    #if not isCutting(node, z):\n    #   return None\n    \n    segment_source = createSourceFromPoint(node)\n    segment_normal = vtk.vtkPolyDataNormals()\n    segment_normal.SetInputConnection(segment_source.GetOutputPort())\n    cutEdges = vtk.vtkCutter()\n    cutEdges.SetInputConnection(segment_normal.GetOutputPort())\n    cutEdges.SetCutFunction(plane)\n    cutEdges.GenerateCutScalarsOn()\n    cutEdges.SetValue(0, 0.5)\n    \n    cutStrips = vtk.vtkStripper()\n    cutStrips.SetInputConnection(cutEdges.GetOutputPort())\n    cutStrips.Update()\n    \n    cutPoly = vtk.vtkPolyData()\n    cutPoly.SetPoints(cutStrips.GetOutput().GetPoints())\n    cutPoly.SetPolys(cutStrips.GetOutput().GetLines())\n    \n    cutTriangles = vtk.vtkTriangleFilter()\n    cutTriangles.SetInput(cutPoly)\n    cutMapper = vtk.vtkPolyDataMapper()\n    cutMapper.SetInput(cutPoly)\n    cutMapper.SetInputConnection(cutTriangles.GetOutputPort())\n    \n    cutActor = vtk.vtkActor()\n    cutActor.SetMapper(cutMapper)\n    cutActor.GetProperty().SetColor(color[0], color[1], color[2])\n\n    return cutActor\n\ndef createNiceTreeSource(model, radius, radius_ratio):\n    \n    points = vtk.vtkPoints()\n    scalars = vtk.vtkDoubleArray()\n    lines = vtk.vtkCellArray()\n    root = model.nodes[0]\n    start_point = np.array(root.coords)\n    start_point[2] -= root.length\n    start_point_visual = points.InsertNextPoint(start_point)\n    for node in model.nodes:\n        node.visual = points.InsertNextPoint(node.coords)\n        segment_radius = radius*(radius_ratio**node.level)\n        scalars.InsertNextValue(segment_radius)\n        prev_visual = node.parent.visual if node.parent else start_point_visual\n        lines.InsertNextCell(2)\n        lines.InsertCellPoint(prev_visual)\n        lines.InsertCellPoint(node.visual)\n    \n    skeleton = vtk.vtkPolyData()\n    skeleton.SetPoints(points)\n    skeleton.SetLines(lines)\n    skeleton.GetPointData().SetScalars(scalars)\n    vtkTubeFilter = vtk.vtkTubeFilter()\n    vtkTubeFilter.SetInput(skeleton)\n    vtkTubeFilter.SetVaryRadiusToVaryRadiusByScalar() \n    vtkTubeFilter.SetRadius(0.15)\n    vtkTubeFilter.SetRadiusFactor(2)\n    vtkTubeFilter.SetNumberOfSides(20)\n    vtkTubeFilter.CappingOn()\n    return vtkTubeFilter\n    \n",
     "language": "python",
     "metadata": {},
     "outputs": [],
     "prompt_number": 37
    },
    {
     "cell_type": "code",
     "collapsed": false,
     "input": "class duct_model:\n    def __init__(self, alpha, beta, length, length_ratio, n_levels):\n        self.alpha = alpha\n        self.beta = beta\n        self.length = length\n        self.length_ratio = length_ratio\n        self.nodes = []\n        self.n_levels = n_levels\n    def add_node(self, node):\n        node.idx = len(self.nodes)\n        self.nodes.append(node)\n        if node.level < self.n_levels:\n            self.branch(node)\n    def branch(self, parent):\n        self.add_node(node(parent, -1))\n        self.add_node(node(parent, 1))\n    def create_ducts(self):\n        self.add_node(node(model=self))\n    \n\ndef rotation_matrix(axis, theta):\n    axis = axis/np.sqrt(np.dot(axis,axis))\n    a = np.cos(theta/2)\n    b,c,d = -axis*np.sin(theta/2)\n    return np.array([[a*a+b*b-c*c-d*d, 2*(b*c-a*d), 2*(b*d+a*c)],\n                     [2*(b*c+a*d), a*a+c*c-b*b-d*d, 2*(c*d-a*b)],\n                     [2*(b*d-a*c), 2*(c*d+a*b), a*a+d*d-b*b-c*c]])\nrotation_matrix\n\ndef rotate_point(p, axis, theta):\n    axis = axis/np.sqrt(np.dot(axis,axis))\n    a = np.cos(theta/2)\n    b,c,d = -axis*np.sin(theta/2)\n    rotmat = np.array([[a*a+b*b-c*c-d*d, 2*(b*c-a*d), 2*(b*d+a*c)],\n                     [2*(b*c+a*d), a*a+c*c-b*b-d*d, 2*(c*d-a*b)],\n                     [2*(b*d-a*c), 2*(c*d+a*b), a*a+d*d-b*b-c*c]])\n\n    return np.dot(rotmat,p)\n      \nclass node:\n    def __init__(self, parent=None, sign=0, model=None):\n        self.parent=parent\n        if (parent is None):\n            self.model = model\n            self.length = model.length\n            self.level = 0\n            self.beta = pi/2\n            self.alpha = 0\n            bc = np.array([0,0,-model.length])\n            self.axis = np.array([0, 0, 1])\n            self.coords = self.length*self.axis\n        else:\n            self.model = parent.model\n            self.level = parent.level + 1\n            self.beta = parent.beta + sign * self.model.beta\n            self.alpha = parent.alpha + alpha\n            self.length = parent.length * self.model.length_ratio\n            self.axis = np.array([0, cos(self.beta), sin(self.beta)])\n            p = self.parent\n            ancestors = []\n            while p:\n                ancestors.append(p)\n                p = p.parent\n            while len(ancestors):\n                a = ancestors.pop()\n                self.axis = rotate_point(self.axis, a.axis, self.model.alpha)\n            self.coords = parent.coords + self.length*self.axis\n   \n    x = property(lambda self: self.coords[0])\n    y = property(lambda self: self.coords[1])\n    z = property(lambda self: self.coords[2])\n    \nclass node_rotmat:\n    def __init__(self, parent=None, sign=0, model=None):\n        self.parent=parent\n        if (parent is None):\n            self.model = model\n            self.length = model.length\n            self.level = 0\n            self.beta = pi/2\n            self.alpha = 0\n            bc = np.array([0,0,-model.length])\n            self.rotation = np.identity(3)\n            self.axis = np.array([0, 0, 1])\n            self.coords = self.length*self.axis\n        else:\n            self.model = parent.model\n            self.level = parent.level + 1\n            self.beta = parent.beta + sign * self.model.beta\n            self.alpha = parent.alpha + alpha\n            self.length = parent.length * self.model.length_ratio\n            self.rotation = np.dot(rotation_matrix(parent.axis, alpha), parent.rotation)\n            self.axis = np.array([0, cos(self.beta), sin(self.beta)])\n            self.axis = np.dot(self.rotation, self.axis)\n            self.coords = parent.coords + self.length*self.axis\n        #p = self.parent\n        #ancestors = []\n        #while p:\n        #    ancestors.append(p)\n        #    p = p.parent\n        #while len(ancestors):\n        #    a = ancestors.pop()\n        #    self.axis = rotate_point(self.axis, a.axis, self.model.alpha)\n        #self.coords = bc + self.length*self.axis\n   \n    x = property(lambda self: self.coords[0])\n    y = property(lambda self: self.coords[1])\n    z = property(lambda self: self.coords[2])",
     "language": "python",
     "metadata": {},
     "outputs": [],
     "prompt_number": 20
    },
    {
     "cell_type": "code",
     "collapsed": false,
     "input": "#model parameters\nl = 4\nlen_ratio = 0.88\nalpha = pi/3\nbeta = pi/6\nn_levels = 3\n",
     "language": "python",
     "metadata": {},
     "outputs": [],
     "prompt_number": 21
    },
    {
     "cell_type": "code",
     "collapsed": false,
     "input": "model = duct_model(alpha, beta, l, len_ratio, n_levels)\nmodel.create_ducts()",
     "language": "python",
     "metadata": {},
     "outputs": [],
     "prompt_number": 22
    },
    {
     "cell_type": "code",
     "collapsed": false,
     "input": "# Create an object per segment (\nren = vtk.vtkRenderer()\n\nlut = vtk.vtkLookupTable()\nlutNum = model.n_levels\nlut.SetNumberOfTableValues(lutNum)\nctf = vtk.vtkColorTransferFunction()\nctf.SetColorSpaceToDiverging()\nctf.AddRGBPoint(0.0, 0, 0, 1.0)\nctf.AddRGBPoint(1.0, 1.0, 0, 0)\nfor ii,ss in enumerate([float(xx)/float(lutNum) for xx in range(lutNum)]):\n\tcc = ctf.GetColor(ss)\n\tlut.SetTableValue(ii,cc[0],cc[1],cc[2],1.0)\n\nfor n in model.nodes:\n    color=lut.GetTableValue(n.level)\n    ren.AddActor(createActorFromPoint(n, color))\n\nvtkRenderWindow = vtk.vtkRenderWindow()\nvtkRenderWindow.AddRenderer(ren)\n\nvtkRenderWindowInteractor = vtk.vtkRenderWindowInteractor()\nvtkRenderWindowInteractor.SetRenderWindow(vtkRenderWindow)\nvtkRenderWindowInteractor.Initialize()\nvtkRenderWindow.Render()\nvtkRenderWindowInteractor.Start()",
     "language": "python",
     "metadata": {},
     "outputs": [],
     "prompt_number": 23
    },
    {
     "cell_type": "code",
     "collapsed": false,
     "input": "# Create Cuts\nren = vtk.vtkRenderer()\n\nlut = vtk.vtkLookupTable()\nlutNum = model.n_levels\nlut.SetNumberOfTableValues(lutNum)\nctf = vtk.vtkColorTransferFunction()\nctf.SetColorSpaceToDiverging()\nctf.AddRGBPoint(0.0, 0, 0, 1.0)\nctf.AddRGBPoint(1.0, 1.0, 0, 0)\nfor ii,ss in enumerate([float(xx)/float(lutNum) for xx in range(lutNum)]):\n\tcc = ctf.GetColor(ss)\n\tlut.SetTableValue(ii,cc[0],cc[1],cc[2],1.0)\n\nplane = vtk.vtkPlane()\nplane.SetOrigin(0, 0, 15)\nplane.SetNormal(0, 0, 1)\n    \nfor n in model.nodes:\n    color=lut.GetTableValue(n.level)\n    actor = createCutFromPoint(n, color, plane)\n    if actor:\n        ren.AddActor(actor)\n\nvtkRenderWindow = vtk.vtkRenderWindow()\nvtkRenderWindow.AddRenderer(ren)\n\nvtkRenderWindowInteractor = vtk.vtkRenderWindowInteractor()\nvtkRenderWindowInteractor.SetRenderWindow(vtkRenderWindow)\nvtkRenderWindowInteractor.Initialize()\nvtkRenderWindow.Render()\nvtkRenderWindowInteractor.Start()",
     "language": "python",
     "metadata": {},
     "outputs": [],
     "prompt_number": 10
    },
    {
     "cell_type": "code",
     "collapsed": false,
     "input": "# Tree at the Ric's way\n\nsource = createNiceTreeSource(model, 3, 0.88)\n\nvtkPolyDataMapper = vtk.vtkPolyDataMapper()\nvtkPolyDataMapper.SetInputConnection(source.GetOutputPort())\n\nvtkActor = vtk.vtkActor()\nvtkActor.SetMapper(vtkPolyDataMapper)\n\nvtkRenderer = vtk.vtkRenderer()\nvtkRenderer.AddActor(vtkActor)\n\nvtkRenderWindow = vtk.vtkRenderWindow()\nvtkRenderWindow.AddRenderer(vtkRenderer)\n\nvtkRenderWindowInteractor = vtk.vtkRenderWindowInteractor()\nvtkRenderWindowInteractor.SetRenderWindow(vtkRenderWindow)\nvtkRenderWindowInteractor.Initialize()\nvtkRenderWindow.Render()\nvtkRenderWindowInteractor.Start()",
     "language": "python",
     "metadata": {},
     "outputs": [],
     "prompt_number": "*"
    },
    {
     "cell_type": "code",
     "collapsed": false,
     "input": "",
     "language": "python",
     "metadata": {},
     "outputs": [],
     "prompt_number": 19
    },
    {
     "cell_type": "code",
     "collapsed": false,
     "input": "",
     "language": "python",
     "metadata": {},
     "outputs": []
    }
   ],
   "metadata": {}
  }
 ]
}