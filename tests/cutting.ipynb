{
 "metadata": {
  "name": "cutting"
 },
 "nbformat": 3,
 "nbformat_minor": 0,
 "worksheets": [
  {
   "cells": [
    {
     "cell_type": "code",
     "collapsed": false,
     "input": "ren = vtk.vtkRenderer()\nrenWin = vtk.vtkRenderWindow()\nrenWin.AddRenderer(ren)\n \n# create a renderwindowinteractor\niren = vtk.vtkRenderWindowInteractor()\niren.SetRenderWindow(renWin)\n \n# create source\nsource = vtk.vtkCylinderSource()\nsource.SetCenter(0,0,0)\nsource.SetRadius(5.0)\nsource.SetHeight(7.0)\nsource.SetResolution(100.0)\n\napd=vtk.vtk\n\nsource2 = vtk.vtkCylinderSource()\nsource2.SetCenter(20,0,0)\nsource2.SetRadius(2.0)\nsource2.SetHeight(10.0)\nsource2.SetResolution(100.0)\n\n# mapper\nmapper = vtk.vtkPolyDataMapper()\nmapper.SetInput(source.GetOutput())\n\nmapper2 = vtk.vtkPolyDataMapper()\nmapper2.SetInput(source2.GetOutput())\n \n# actor\nactor = vtk.vtkActor()\nactor.SetMapper(mapper)\n\nactor2= vtk.vtkActor()\nactor2.SetMapper(mapper2)\n \n    \n# assign actor to the renderer\nren.AddActor(actor)\nren.AddActor(actor2)\n\nplane=vtk.vtkPlane()\nplane.SetOrigin(0,0,5)\nplane.SetNormal(0,0,1)\n \n#create cutter\ncutter=vtk.vtkCutter()\ncutter.SetCutFunction(plane)\ncutter.SetInputConnection(source.GetOutputPort())\ncutter.Update()\ncutterMapper=vtk.vtkPolyDataMapper()\ncutterMapper.SetInputConnection( cutter.GetOutputPort())\n \n\n# enable user interface interactor\niren.Initialize()\nrenWin.Render()\niren.Start()",
     "language": "python",
     "metadata": {},
     "outputs": [],
     "prompt_number": 12
    },
    {
     "cell_type": "code",
     "collapsed": false,
     "input": "#!/usr/bin/env python\n\n# In this example vtkClipPolyData is used to cut a polygonal model\n# of a cow in half. In addition, the open clip is closed by triangulating\n# the resulting complex polygons.\n\nimport vtk\nfrom vtk.util.misc import vtkGetDataRoot\nfrom vtk.util.colors import peacock, tomato\nVTK_DATA_ROOT = vtkGetDataRoot()\n\n# First start by reading a cow model. We also generate surface normals for\n# prettier rendering.\nsource = vtk.vtkCylinderSource()\nsource.SetCenter(0,0,0)\nsource.SetRadius(5.0)\nsource.SetHeight(7.0)\nsource.SetResolution(100.0)\n\nsource2 = vtk.vtkCylinderSource()\nsource2.SetCenter(20,0,0)\nsource2.SetRadius(2.0)\nsource2.SetHeight(10.0)\nsource2.SetResolution(100.0)\n    \ncowNormals = vtk.vtkPolyDataNormals()\ncowNormals.SetInputConnection(source.GetOutputPort())\n\n\ncowNormals2 = vtk.vtkPolyDataNormals()\ncowNormals2.SetInputConnection(source2.GetOutputPort())\n\n# We clip with an implicit function. Here we use a plane positioned near\n# the center of the cow model and oriented at an arbitrary angle.\nplane = vtk.vtkPlane()\nplane.SetOrigin(0, 3, 0)\nplane.SetNormal(0, 1, 0)\n\n# Here we are cutting the cow. Cutting creates lines where the cut\n# function intersects the model. (Clipping removes a portion of the\n# model but the dimension of the data does not change.)\n#\n# The reason we are cutting is to generate a closed polygon at the\n# boundary of the clipping process. The cutter generates line\n# segments, the stripper then puts them together into polylines. We\n# then pull a trick and define polygons using the closed line\n# segements that the stripper created.\ncutEdges = vtk.vtkCutter()\ncutEdges.SetInputConnection(cowNormals.GetOutputPort())\ncutEdges.SetCutFunction(plane)\ncutEdges.GenerateCutScalarsOn()\ncutEdges.SetValue(0, 0.5)\ncutStrips = vtk.vtkStripper()\ncutStrips.SetInputConnection(cutEdges.GetOutputPort())\ncutStrips.Update()\ncutPoly = vtk.vtkPolyData()\ncutPoly.SetPoints(cutStrips.GetOutput().GetPoints())\ncutPoly.SetPolys(cutStrips.GetOutput().GetLines())\n\ncutEdges2 = vtk.vtkCutter()\ncutEdges2.SetInputConnection(cowNormals2.GetOutputPort())\ncutEdges2.SetCutFunction(plane)\ncutEdges2.GenerateCutScalarsOn()\ncutEdges2.SetValue(0, 0.5)\ncutStrips2 = vtk.vtkStripper()\ncutStrips2.SetInputConnection(cutEdges2.GetOutputPort())\ncutStrips2.Update()\ncutPoly2 = vtk.vtkPolyData()\ncutPoly2.SetPoints(cutStrips2.GetOutput().GetPoints())\ncutPoly2.SetPolys(cutStrips2.GetOutput().GetLines())\n\n# Triangle filter is robust enough to ignore the duplicate point at\n# the beginning and end of the polygons and triangulate them.\ncutTriangles = vtk.vtkTriangleFilter()\ncutTriangles.SetInput(cutPoly)\ncutMapper = vtk.vtkPolyDataMapper()\ncutMapper.SetInput(cutPoly)\ncutMapper.SetInputConnection(cutTriangles.GetOutputPort())\ncutActor = vtk.vtkActor()\ncutActor.SetMapper(cutMapper)\ncutActor.GetProperty().SetColor(peacock)\n\ncutTriangles2 = vtk.vtkTriangleFilter()\ncutTriangles2.SetInput(cutPoly2)\ncutMapper2 = vtk.vtkPolyDataMapper()\ncutMapper2.SetInput(cutPoly2)\ncutMapper2.SetInputConnection(cutTriangles2.GetOutputPort())\ncutActor2 = vtk.vtkActor()\ncutActor2.SetMapper(cutMapper2)\ncutActor2.GetProperty().SetColor(tomato)\n\n# Create graphics stuff\nren = vtk.vtkRenderer()\nrenWin = vtk.vtkRenderWindow()\nrenWin.AddRenderer(ren)\niren = vtk.vtkRenderWindowInteractor()\niren.SetRenderWindow(renWin)\n\n# Add the actors to the renderer, set the background and size\nren.AddActor(cutActor)\nren.AddActor(cutActor2)\nren.SetBackground(1, 1, 1)\nren.ResetCamera()\nren.GetActiveCamera().Azimuth(30)\nren.GetActiveCamera().Elevation(30)\nren.GetActiveCamera().Dolly(1.5)\nren.ResetCameraClippingRange()\n\nrenWin.SetSize(300, 300)\niren.Initialize()\n\n# Lets you move the cut plane back and forth by invoking the function\n# Cut with the appropriate plane value (essentially a distance from\n# the original plane).  This is not used in this code but should give\n# you an idea of how to define a function to do this.\ndef Cut(v):\n    cutEdges.SetValue(0, v)\n    cutStrips.Update()\n    cutPoly.SetPoints(cutStrips.GetOutput().GetPoints())\n    cutPoly.SetPolys(cutStrips.GetOutput().GetLines())\n    cutMapper.Update()\n    cutEdges2.SetValue(0, v)\n    cutStrips2.Update()\n    cutPoly2.SetPoints(cutStrips2.GetOutput().GetPoints())\n    cutPoly2.SetPolys(cutStrips2.GetOutput().GetLines())\n    cutMapper2.Update()\n    renWin.Render()\n\nrenWin.Render()\niren.Start()\n",
     "language": "python",
     "metadata": {},
     "outputs": [],
     "prompt_number": 32
    },
    {
     "cell_type": "code",
     "collapsed": false,
     "input": "\n",
     "language": "python",
     "metadata": {},
     "outputs": [],
     "prompt_number": 20
    },
    {
     "cell_type": "code",
     "collapsed": false,
     "input": "",
     "language": "python",
     "metadata": {},
     "outputs": []
    }
   ],
   "metadata": {}
  }
 ]
}